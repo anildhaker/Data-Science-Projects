{
 "cells": [
  {
   "cell_type": "code",
   "execution_count": 3,
   "metadata": {},
   "outputs": [],
   "source": [
    "import requests\n",
    "from bs4 import BeautifulSoup\n",
    "from gensim.summarization import summarize"
   ]
  },
  {
   "cell_type": "code",
   "execution_count": 4,
   "metadata": {},
   "outputs": [],
   "source": [
    "url = 'https://timesofindia.indiatimes.com/sports/cricket/icc-world-cup/icc-world-cup-another-super-over-should-decide-the-winner-instead-of-boundaries-says-sachin-tendulkar/articleshow/70248885.cms'\n",
    "page = requests.get(url).text"
   ]
  },
  {
   "cell_type": "code",
   "execution_count": 5,
   "metadata": {},
   "outputs": [],
   "source": [
    "soup = BeautifulSoup(page)"
   ]
  },
  {
   "cell_type": "code",
   "execution_count": 6,
   "metadata": {},
   "outputs": [
    {
     "name": "stdout",
     "output_type": "stream",
     "text": [
      "ICC World Cup: Another Super Over should decide the winner instead of boundaries, says Sachin Tendulkar\n"
     ]
    }
   ],
   "source": [
    "headline = soup.find('arttitle').get_text()\n",
    "print(headline)"
   ]
  },
  {
   "cell_type": "code",
   "execution_count": 7,
   "metadata": {},
   "outputs": [
    {
     "data": {
      "text/plain": [
       "[\"Refrain from posting comments that are obscene, defamatory or inflammatory, and do not indulge in personal attacks, name calling or inciting hatred against any community. Help us delete comments that do not follow these guidelines by marking them offensive. Let's work together to keep the conversation civil.\",\n",
       " '',\n",
       " 'Copyright © 2019 Bennett, Coleman & Co. Ltd. All rights reserved. For reprint rights: Times Syndication Service']"
      ]
     },
     "execution_count": 7,
     "metadata": {},
     "output_type": "execute_result"
    }
   ],
   "source": [
    "# Get text from all <p> tags.\n",
    "p_tags = soup.find_all('p')\n",
    "# Get the text from each of the \"p\" tags and strip surrounding whitespace.\n",
    "p_tags_text = [tag.get_text().strip() for tag in p_tags]\n",
    "p_tags_text"
   ]
  },
  {
   "cell_type": "code",
   "execution_count": 12,
   "metadata": {},
   "outputs": [
    {
     "name": "stdout",
     "output_type": "stream",
     "text": [
      "<div class=\"Normal\">\n",
      " NEW DELHI:\n",
      " <a class=\"key_underline\" href=\"https://timesofindia.indiatimes.com/topic/Sachin-Tendulkar\">\n",
      "  Sachin Tendulkar\n",
      " </a>\n",
      " on Tuesday endorsed a second\n",
      " <a class=\"key_underline\" href=\"https://timesofindia.indiatimes.com/topic/Super-Over\">\n",
      "  Super Over\n",
      " </a>\n",
      " to decide the winner instead of considering the boundary count if such an extraordinary situation arises like it did in the World Cup final.\n",
      " <br/>\n",
      " <br/>\n",
      " <strong>\n",
      "  ALSO READ:\n",
      "  <a data-type=\"tilCustomLink\" href=\"https://timesofindia.indiatimes.com/sports/cricket/icc-world-cup/ms-dhoni-missing-from-sachin-tendulkars-world-cup-2019-xi/articleshow/70243104.cms\">\n",
      "   Five Indians in Sachin Tendulkar's World Cup XI, no MS Dhoni\n",
      "  </a>\n",
      " </strong>\n",
      " <div class=\"top2brdiv\">\n",
      " </div>\n",
      " <br/>\n",
      " <br/>\n",
      " In a gut-wrenching final at Lord's on Sunday, England were adjudged the World Cup winners on the basis of their superior boundary count - 26 to New Zealand's 17 - after both the regulation match and the ensuing Super Over ended in a tie.\n",
      " <br/>\n",
      " <br/>\n",
      " \"I feel there should be another super over to decide the winner, instead of considering the number of boundaries scored by both teams. Not just in a World Cup final. Every game is important. Like in football, when teams go into extra time, nothing else matters,\" Tendulkar told 100mb.\n",
      " <br/>\n",
      " <br/>\n",
      " Current and former cricketers including\n",
      " <a class=\"key_underline\" href=\"https://timesofindia.indiatimes.com/topic/Rohit-Sharma\">\n",
      "  Rohit Sharma\n",
      " </a>\n",
      " ,\n",
      " <a class=\"key_underline\" href=\"https://timesofindia.indiatimes.com/topic/Gautam-Gambhir\">\n",
      "  Gautam Gambhir\n",
      " </a>\n",
      " and\n",
      " <a class=\"key_underline\" href=\"https://timesofindia.indiatimes.com/topic/Yuvraj-Singh\">\n",
      "  Yuvraj Singh\n",
      " </a>\n",
      " , have questioned ICC's \"ridiculous\" rule on boundary count that decided the World Cup title.\n",
      " <br/>\n",
      " <br/>\n",
      " After table-toppers India were knocked out of the World Cup after losing the semi-final to New Zealand, skipper\n",
      " <a class=\"key_underline\" href=\"https://timesofindia.indiatimes.com/topic/Virat-Kohli\">\n",
      "  Virat Kohli\n",
      " </a>\n",
      " had suggested IPL-like playoffs instead of knockouts in the World Cup going forward.\n",
      " <br/>\n",
      " <br/>\n",
      " Asked if the World Cup format needs to be changed in the knock out stages, Tendulkar said: \"I think the two teams that finish at the top should definitely have something going for them for having played consistently through the tournament.\"\n",
      " <div class=\"last8brdiv\">\n",
      " </div>\n",
      " <br/>\n",
      " <div class=\"last7brdiv\">\n",
      " </div>\n",
      " <br/>\n",
      " During India's semifinal, former skipper\n",
      " <a class=\"key_underline\" href=\"https://timesofindia.indiatimes.com/topic/Mahendra-Singh-Dhoni\">\n",
      "  Mahendra Singh Dhoni\n",
      " </a>\n",
      " was sent at number seven with\n",
      " <a class=\"key_underline\" href=\"https://timesofindia.indiatimes.com/topic/Hardik-Pandya\">\n",
      "  Hardik Pandya\n",
      " </a>\n",
      " and Dinesh Karthik being promoted in the batting order.\n",
      " <div class=\"last6brdiv\">\n",
      " </div>\n",
      " <br/>\n",
      " <div class=\"last5brdiv\">\n",
      " </div>\n",
      " <br/>\n",
      " Asked what batting order he would have gone with for the chase, Tendulkar said: \"Without a doubt, I would've sent MS Dhoni at his usual position, No. 5.\n",
      " <div class=\"last4brdiv\">\n",
      " </div>\n",
      " <br/>\n",
      " <div class=\"last3brdiv\">\n",
      " </div>\n",
      " <br/>\n",
      " \"With the kind of situation that India was in and the experience that he has, the need of the hour was for him to build the innings. Hardik could've batted at 6 and Karthik would've followed at 7.\"\n",
      " <div class=\"last2brdiv\">\n",
      " </div>\n",
      " <br/>\n",
      " <div class=\"last1brdiv\">\n",
      " </div>\n",
      " <br/>\n",
      " <a href=\"https://maharashtratimes.indiatimes.com/sports/cricket-news/another-super-over-should-decide-winner-instead-of-boundaries-says-sachin-tendulkar/articleshow/70249597.cms\" rel=\"nofollow\">\n",
      "  Read this story in Marathi\n",
      " </a>\n",
      " <br/>\n",
      "</div>\n"
     ]
    }
   ],
   "source": [
    "match = soup.find('div',class_ =\"Normal\")\n",
    "\n",
    "print(match.prettify())"
   ]
  },
  {
   "cell_type": "code",
   "execution_count": 14,
   "metadata": {},
   "outputs": [
    {
     "name": "stdout",
     "output_type": "stream",
     "text": [
      "NEW DELHI: Sachin Tendulkar on Tuesday endorsed a second Super Over to decide the winner instead of considering the boundary count if such an extraordinary situation arises like it did in the World Cup final.\n",
      "\n",
      "\n",
      "\n",
      "ALSO READ: Five Indians in Sachin Tendulkar's World Cup XI, no MS Dhoni\n",
      "\n",
      "In a gut-wrenching final at Lord's on Sunday, England were adjudged the World Cup winners on the basis of their superior boundary count - 26 to New Zealand's 17 - after both the regulation match and the ensuing Super Over ended in a tie.\n",
      "\n",
      "\"I feel there should be another super over to decide the winner, instead of considering the number of boundaries scored by both teams. Not just in a World Cup final. Every game is important. Like in football, when teams go into extra time, nothing else matters,\" Tendulkar told 100mb.\n",
      "\n",
      "Current and former cricketers including Rohit Sharma, Gautam Gambhir and Yuvraj Singh, have questioned ICC's \"ridiculous\" rule on boundary count that decided the World Cup title.\n",
      "\n",
      "After table-toppers India were knocked out of the World Cup after losing the semi-final to New Zealand, skipper Virat Kohli had suggested IPL-like playoffs instead of knockouts in the World Cup going forward.\n",
      "\n",
      "Asked if the World Cup format needs to be changed in the knock out stages, Tendulkar said: \"I think the two teams that finish at the top should definitely have something going for them for having played consistently through the tournament.\"\n",
      "\n",
      "During India's semifinal, former skipper Mahendra Singh Dhoni was sent at number seven with Hardik Pandya and Dinesh Karthik being promoted in the batting order.\n",
      "\n",
      "Asked what batting order he would have gone with for the chase, Tendulkar said: \"Without a doubt, I would've sent MS Dhoni at his usual position, No. 5.\n",
      "\n",
      "\"With the kind of situation that India was in and the experience that he has, the need of the hour was for him to build the innings. Hardik could've batted at 6 and Karthik would've followed at 7.\"\n",
      "\n",
      "\n",
      "Read this story in Marathi\n",
      "\n",
      "\n"
     ]
    }
   ],
   "source": [
    "text = match.get_text()\n",
    "print(text)"
   ]
  },
  {
   "cell_type": "code",
   "execution_count": 16,
   "metadata": {},
   "outputs": [],
   "source": [
    "summary = summarize(text, ratio=0.3)"
   ]
  },
  {
   "cell_type": "code",
   "execution_count": 17,
   "metadata": {},
   "outputs": [
    {
     "name": "stdout",
     "output_type": "stream",
     "text": [
      "NEW DELHI: Sachin Tendulkar on Tuesday endorsed a second Super Over to decide the winner instead of considering the boundary count if such an extraordinary situation arises like it did in the World Cup final.\n",
      "In a gut-wrenching final at Lord's on Sunday, England were adjudged the World Cup winners on the basis of their superior boundary count - 26 to New Zealand's 17 - after both the regulation match and the ensuing Super Over ended in a tie.\n",
      "\"I feel there should be another super over to decide the winner, instead of considering the number of boundaries scored by both teams.\n",
      "During India's semifinal, former skipper Mahendra Singh Dhoni was sent at number seven with Hardik Pandya and Dinesh Karthik being promoted in the batting order.\n"
     ]
    }
   ],
   "source": [
    "print(summary)"
   ]
  },
  {
   "cell_type": "code",
   "execution_count": null,
   "metadata": {},
   "outputs": [],
   "source": []
  }
 ],
 "metadata": {
  "kernelspec": {
   "display_name": "Python 3",
   "language": "python",
   "name": "python3"
  },
  "language_info": {
   "codemirror_mode": {
    "name": "ipython",
    "version": 3
   },
   "file_extension": ".py",
   "mimetype": "text/x-python",
   "name": "python",
   "nbconvert_exporter": "python",
   "pygments_lexer": "ipython3",
   "version": "3.6.6"
  }
 },
 "nbformat": 4,
 "nbformat_minor": 2
}
